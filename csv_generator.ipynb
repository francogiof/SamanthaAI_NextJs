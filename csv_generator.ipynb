{
 "cells": [
  {
   "cell_type": "code",
   "execution_count": 3,
   "id": "750ef2a9",
   "metadata": {},
   "outputs": [
    {
     "data": {
      "text/plain": [
       "'../screening_interview_steps.csv'"
      ]
     },
     "execution_count": 3,
     "metadata": {},
     "output_type": "execute_result"
    }
   ],
   "source": [
    "import pandas as pd\n",
    "\n",
    "# Define the data for the CSV based on the SQL insert provided earlier\n",
    "data = [\n",
    "    [None, 2, 2, 0, 'semi-static', None, '[\"candidate_info.full_name\"]', \n",
    "     \"Hello Franco Ccapa, it’s a pleasure to meet you. How’s your day going so far?\", \n",
    "     None, None, 'Greeting and Welcome', 'Quick start'],\n",
    "\n",
    "    [None, 2, 2, 1, 'static', None, None, \n",
    "     \"Thanks for joining today. This is your screening interview, lasting about 15 minutes. We’ll cover your experience, skills, expectations, and give you a quick role overview. Feel free to ask questions at any time. Are you ready to begin?\", \n",
    "     None, None, 'Interview Guidelines', 'Quick start'],\n",
    "\n",
    "    [None, 2, 2, 2, 'semi-static', None, '[\"context_role_info.project_description\",\"context_role_info.ML_stack\"]', \n",
    "     \"Here’s some context for the role: Resilu is the recruitment platform of DNA MICRO, a software development company that has been in the IT Industry for 25 years. We are actively looking for IT professionals to work with new AI-driven projects. The company follows the Pacific Time Zone. You'll be involved in developing, deploying, and maintaining AI/ML applications integrated into full-stack platforms, working with technologies such as Nest.js, Node.js, Python, Go, React, Angular, Vue, and cloud platforms like AWS, GCP, and Azure. Any questions before we proceed?\", \n",
    "     None, 'job_offer_info.role_mission_summary', 'Role Context and Project Overview', 'Role explanation'],\n",
    "\n",
    "    [None, 2, 2, 3, 'static', 'current_location', None, \n",
    "     \"Could you tell me where you’re currently located?\", \n",
    "     None, None, 'Candidate Current Location', 'About you'],\n",
    "\n",
    "    [None, 2, 2, 4, 'static', 'current_work_status', None, \n",
    "     \"Are you currently working? If so, what’s your current role?\", \n",
    "     None, None, 'Current Work Status', 'About you'],\n",
    "\n",
    "    [None, 2, 2, 5, 'semi-static', 'availability', '[\"candidate_info.availability_date\"]', \n",
    "     \"When would you be available to start if selected?\", \n",
    "     None, None, 'Availability and Start Date', 'About you'],\n",
    "\n",
    "    [None, 2, 2, 6, 'semi-static', 'salary_alignment', '[\"candidate_info.salary_expectations\",\"context_role_info.salary_range\"]', \n",
    "     \"The salary range for this role is 2000 dollars. Does that align with your expectations?\", \n",
    "     None, None, 'Salary Expectations Alignment', 'About you'],\n",
    "\n",
    "    [None, 2, 2, 7, 'semi-static', 'fullstack_experience', '[\"candidate_info.years_experience\",\"candidate_info.last_job_description\"]', \n",
    "     \"How many years of experience do you have as a Full Stack Developer, and can you share an example of a recent project where you worked on both the frontend and backend?\", \n",
    "     None, None, 'Full Stack Experience Overview', 'Qualifications'],\n",
    "\n",
    "    [None, 2, 2, 8, 'semi-static', 'ai_ml_applications', '[\"candidate_info.ml_project_examples\"]', \n",
    "     \"Can you describe an AI/ML application you have developed end-to-end? Which frameworks did you use (e.g., scikit-learn, TensorFlow, PyTorch), and how did you integrate it into a production system?\", \n",
    "     None, None, 'AI/ML Application Development', 'Qualifications'],\n",
    "\n",
    "    [None, 2, 2, 9, 'semi-static', 'frontend_react', '[\"candidate_info.frontend_tech_stack\"]', \n",
    "     \"This role requires proficiency with React. Can you give an example of a complex UI you built with React, and how you ensured its responsiveness and performance?\", \n",
    "     None, None, 'Frontend Development with React', 'Qualifications'],\n",
    "\n",
    "    [None, 2, 2, 10, 'semi-static', 'backend_nestjs', '[\"candidate_info.backend_tech_stack\"]', \n",
    "     \"Have you developed backend services using Nest.js or similar frameworks? Can you walk me through the architecture of one of your backend projects?\", \n",
    "     None, None, 'Backend Development with Nest.js', 'Qualifications'],\n",
    "\n",
    "    [None, 2, 2, 11, 'semi-static', 'mlops_cloud', '[\"candidate_info.cloud_experience\"]', \n",
    "     \"The role requires MLOps practices with AWS, GCP, or Azure. Can you share an example of how you deployed and monitored an ML model in the cloud, and which services you used?\", \n",
    "     None, None, 'MLOps and Cloud Deployment', 'Qualifications'],\n",
    "\n",
    "    [None, 2, 2, 12, 'semi-static', 'databricks_spark', '[\"candidate_info.big_data_experience\"]', \n",
    "     \"Have you worked with Databricks or Apache Spark for large-scale data processing? Can you explain a project where you used them to build or optimize a data pipeline?\", \n",
    "     None, None, 'Big Data Processing with Databricks/Spark', 'Qualifications'],\n",
    "\n",
    "    [None, 2, 2, 13, 'relational', None, None, \n",
    "     \"We’re almost done. Is there anything you’d like to ask before we wrap up?\", \n",
    "     None, None, 'Candidate Questions Opportunity', 'Finishing and next steps'],\n",
    "\n",
    "    [None, 2, 2, 14, 'semi-static', None, '[\"candidate_info.full_name\",\"job_offer_info.job_title\",\"company_info.company_name\"]', \n",
    "     \"Thank you for your time, Franco Ccapa. This concludes the screening for the Machine Learning Engineer position at DNA MICRO. We’ll follow up with next steps soon, which will be your technical interview.\", \n",
    "     None, None, 'Interview Conclusion and Next Steps', 'Finishing and next steps']\n",
    "]\n",
    "\n",
    "# Define column names\n",
    "columns = [\n",
    "    'step_id', 'requirement_id', 'candidate_id', 'step_order', 'type', 'focus', \n",
    "    'includes', 'text', 'notes', 'fallback_if_missing', 'step_name', 'structure'\n",
    "]\n",
    "\n",
    "# Create DataFrame\n",
    "df = pd.DataFrame(data, columns=columns)\n",
    "\n",
    "# Save to CSV\n",
    "csv_path = \"../screening_interview_steps.csv\"\n",
    "df.to_csv(csv_path, index=False)\n",
    "\n",
    "csv_path\n"
   ]
  }
 ],
 "metadata": {
  "kernelspec": {
   "display_name": "base",
   "language": "python",
   "name": "python3"
  },
  "language_info": {
   "codemirror_mode": {
    "name": "ipython",
    "version": 3
   },
   "file_extension": ".py",
   "mimetype": "text/x-python",
   "name": "python",
   "nbconvert_exporter": "python",
   "pygments_lexer": "ipython3",
   "version": "3.12.9"
  }
 },
 "nbformat": 4,
 "nbformat_minor": 5
}
